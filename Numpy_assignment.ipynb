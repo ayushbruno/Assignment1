{
  "nbformat": 4,
  "nbformat_minor": 0,
  "metadata": {
    "colab": {
      "provenance": []
    },
    "kernelspec": {
      "name": "python3",
      "display_name": "Python 3"
    },
    "language_info": {
      "name": "python"
    }
  },
  "cells": [
    {
      "cell_type": "code",
      "source": [
        "# 1. What is a Python library? Why do we use Python libraries?\n",
        "# Answer:\n",
        "\n",
        "\"\"\"\n",
        "A Python library is a collection of modules and functions that provide specific functionalities, such as mathematical operations,\n",
        "data manipulation, or machine learning. Libraries help in reusing code and simplify complex tasks by providing pre-written functions.\n",
        " Examples include NumPy, Pandas, and TensorFlow.\n",
        "\"\"\"\n"
      ],
      "metadata": {
        "id": "L-DIcHl9Cp4k"
      },
      "execution_count": null,
      "outputs": []
    },
    {
      "cell_type": "code",
      "source": [
        "# 2. What is the difference between Numpy array and List?\n",
        "# Answer:\n",
        "\n",
        "\"\"\"\n",
        "- NumPy Array: Fixed-size, homogeneous data structure with efficient memory and performance for numerical operations.\n",
        "- Python List: Dynamic-size, heterogeneous data structure that can store different types of elements but is slower for numerical\n",
        "operations compared to NumPy arrays.\n",
        "\"\"\"\n"
      ],
      "metadata": {
        "id": "RItnLzbJCpxx"
      },
      "execution_count": null,
      "outputs": []
    },
    {
      "cell_type": "code",
      "source": [
        "# 3. Find the shape, size and dimension of the following array?\n",
        "# [[1, 2, 3, 4], [5, 6, 7, 8], [9, 10, 11, 12]]\n",
        "\n",
        "import numpy as np\n",
        "arr = np.array([[1, 2, 3, 4], [5, 6, 7, 8], [9, 10, 11, 12]])\n",
        "print(\"Shape:\", arr.shape)\n",
        "print(\"Size:\", arr.size)\n",
        "print(\"Dimensions:\", arr.ndim)\n"
      ],
      "metadata": {
        "colab": {
          "base_uri": "https://localhost:8080/",
          "height": 0
        },
        "id": "1fxWdI1VCpnb",
        "outputId": "0afb1924-840c-47ca-8f08-d27bfbe7a404"
      },
      "execution_count": 1,
      "outputs": [
        {
          "output_type": "stream",
          "name": "stdout",
          "text": [
            "Shape: (3, 4)\n",
            "Size: 12\n",
            "Dimensions: 2\n"
          ]
        }
      ]
    },
    {
      "cell_type": "code",
      "source": [
        "# 4. Write python code to access the first row of the following array?\n",
        "# [[1, 2, 3, 4], [5, 6, 7, 8], [9, 10, 11, 12]]\n",
        "\n",
        "arr = np.array([[1, 2, 3, 4], [5, 6, 7, 8], [9, 10, 11, 12]])\n",
        "first_row = arr[0]\n",
        "print(first_row)\n"
      ],
      "metadata": {
        "colab": {
          "base_uri": "https://localhost:8080/",
          "height": 0
        },
        "id": "M-Z-D066Cpkq",
        "outputId": "4697d4d1-e198-4e74-ed93-7f3603388d35"
      },
      "execution_count": 2,
      "outputs": [
        {
          "output_type": "stream",
          "name": "stdout",
          "text": [
            "[1 2 3 4]\n"
          ]
        }
      ]
    },
    {
      "cell_type": "code",
      "source": [
        "# 5. How do you access the element at the third row and fourth column from the given numpy array?\n",
        "# [[1, 2, 3, 4], [5, 6, 7, 8], [9, 10, 11, 12]]\n",
        "\n",
        "element = arr[2, 3]  # 3rd row (index 2), 4th column (index 3)\n",
        "print(element)\n"
      ],
      "metadata": {
        "colab": {
          "base_uri": "https://localhost:8080/",
          "height": 0
        },
        "id": "FAldCGDICpZT",
        "outputId": "7794ca27-eca9-4678-a32b-a0a6e659cb88"
      },
      "execution_count": 3,
      "outputs": [
        {
          "output_type": "stream",
          "name": "stdout",
          "text": [
            "12\n"
          ]
        }
      ]
    },
    {
      "cell_type": "code",
      "source": [
        "# 6. Write code to extract all odd-indexed elements from the given numpy array?\n",
        "# [[1, 2, 3, 4], [5, 6, 7, 8], [9, 10, 11, 12]]\n",
        "\n",
        "odd_elements = arr[:, 1::2]  # Extract elements from odd columns (index 1 and 3)\n",
        "print(odd_elements)\n"
      ],
      "metadata": {
        "colab": {
          "base_uri": "https://localhost:8080/",
          "height": 0
        },
        "id": "ua_BfjcPCpWu",
        "outputId": "1536add8-7961-4027-d6be-95892d1e150b"
      },
      "execution_count": 4,
      "outputs": [
        {
          "output_type": "stream",
          "name": "stdout",
          "text": [
            "[[ 2  4]\n",
            " [ 6  8]\n",
            " [10 12]]\n"
          ]
        }
      ]
    },
    {
      "cell_type": "code",
      "source": [
        "# 7. How can you generate a random 3x3 matrix with values between 0 and 1?\n",
        "# Answer:\n",
        "\n",
        "random_matrix = np.random.rand(3, 3)\n",
        "print(random_matrix)\n"
      ],
      "metadata": {
        "colab": {
          "base_uri": "https://localhost:8080/",
          "height": 0
        },
        "id": "ZPDdBM9gCpUC",
        "outputId": "a1265bc6-492c-4111-88e8-33c11358f71c"
      },
      "execution_count": 5,
      "outputs": [
        {
          "output_type": "stream",
          "name": "stdout",
          "text": [
            "[[0.31985161 0.27201436 0.98131653]\n",
            " [0.25313779 0.24951713 0.13619022]\n",
            " [0.03665906 0.19597122 0.63526187]]\n"
          ]
        }
      ]
    },
    {
      "cell_type": "code",
      "source": [
        "# 8. Describe the difference between np.random.rand and np.random.randn?\n",
        "\n",
        "\"\"\"\n",
        "- np.random.rand: Generates random numbers from a uniform distribution between 0 and 1.\n",
        "- np.random.randn: Generates random numbers from a standard normal distribution (mean = 0, variance = 1).\n",
        "\"\"\"\n"
      ],
      "metadata": {
        "id": "D4dTuFUKCpQS"
      },
      "execution_count": null,
      "outputs": []
    },
    {
      "cell_type": "code",
      "source": [
        "# 9. Write code to increase the dimension of the following array?\n",
        "# [[1, 2, 3, 4], [5, 6, 7, 8], [9, 10, 11, 12]]\n",
        "\n",
        "new_arr = arr[:, np.newaxis, :]\n",
        "print(new_arr.shape)  # This will add a new axis (dimension)\n"
      ],
      "metadata": {
        "colab": {
          "base_uri": "https://localhost:8080/",
          "height": 0
        },
        "id": "br2wbGZUCpNG",
        "outputId": "0423376f-0415-43a6-9c41-9eab5331393c"
      },
      "execution_count": 6,
      "outputs": [
        {
          "output_type": "stream",
          "name": "stdout",
          "text": [
            "(3, 1, 4)\n"
          ]
        }
      ]
    },
    {
      "cell_type": "code",
      "source": [
        "# 10. How to transpose the following array in NumPy?\n",
        "# [[1, 2, 3, 4], [5, 6, 7, 8], [9, 10, 11, 12]]\n",
        "\n",
        "transposed_arr = arr.T\n",
        "print(transposed_arr)\n"
      ],
      "metadata": {
        "colab": {
          "base_uri": "https://localhost:8080/",
          "height": 0
        },
        "id": "Pr82pfRkDcoa",
        "outputId": "929b18b7-43b8-4284-8ac3-7b94467faa9d"
      },
      "execution_count": 7,
      "outputs": [
        {
          "output_type": "stream",
          "name": "stdout",
          "text": [
            "[[ 1  5  9]\n",
            " [ 2  6 10]\n",
            " [ 3  7 11]\n",
            " [ 4  8 12]]\n"
          ]
        }
      ]
    },
    {
      "cell_type": "code",
      "source": [
        "# 11. Consider the following matrix:\n",
        "# Matrix A: [[1, 2, 3, 4], [5, 6, 7, 8], [9, 10, 11, 12]]\n",
        "# Matrix B: [[1, 2, 3, 4], [5, 6, 7, 8], [9, 10, 11, 12]]\n",
        "# Perform the following operation using Python:\n",
        "# 1. Index wise multiplication\n",
        "# 2. Matrix multiplication\n",
        "# 3. Add both the matrices\n",
        "# 4. Subtract matrix B from A\n",
        "# 5. Divide Matrix B by A\n",
        "\n",
        "A = np.array([[1, 2, 3, 4], [5, 6, 7, 8], [9, 10, 11, 12]])\n",
        "B = np.array([[1, 2, 3, 4], [5, 6, 7, 8], [9, 10, 11, 12]])\n",
        "\n",
        "# 1. Index wise multiplication\n",
        "index_wise_mult = A * B\n",
        "print(\"Index wise multiplication:\\n\", index_wise_mult)\n",
        "\n",
        "# 2. Matrix multiplication\n",
        "matrix_mult = np.dot(A, B.T)  # Transpose B to match dimensions\n",
        "print(\"Matrix multiplication:\\n\", matrix_mult)\n",
        "\n",
        "# 3. Add both the matrices\n",
        "matrix_add = A + B\n",
        "print(\"Addition:\\n\", matrix_add)\n",
        "\n",
        "# 4. Subtract matrix B from A\n",
        "matrix_sub = A - B\n",
        "print(\"Subtraction:\\n\", matrix_sub)\n",
        "\n",
        "# 5. Divide Matrix B by A\n",
        "matrix_div = B / A\n",
        "print(\"Division:\\n\", matrix_div)\n"
      ],
      "metadata": {
        "colab": {
          "base_uri": "https://localhost:8080/",
          "height": 0
        },
        "id": "lWHPJ6_7DclV",
        "outputId": "afe0d1bf-020d-4ded-f7dd-443162490e2f"
      },
      "execution_count": 8,
      "outputs": [
        {
          "output_type": "stream",
          "name": "stdout",
          "text": [
            "Index wise multiplication:\n",
            " [[  1   4   9  16]\n",
            " [ 25  36  49  64]\n",
            " [ 81 100 121 144]]\n",
            "Matrix multiplication:\n",
            " [[ 30  70 110]\n",
            " [ 70 174 278]\n",
            " [110 278 446]]\n",
            "Addition:\n",
            " [[ 2  4  6  8]\n",
            " [10 12 14 16]\n",
            " [18 20 22 24]]\n",
            "Subtraction:\n",
            " [[0 0 0 0]\n",
            " [0 0 0 0]\n",
            " [0 0 0 0]]\n",
            "Division:\n",
            " [[1. 1. 1. 1.]\n",
            " [1. 1. 1. 1.]\n",
            " [1. 1. 1. 1.]]\n"
          ]
        }
      ]
    },
    {
      "cell_type": "code",
      "source": [
        "# 12. Which function in Numpy can be used to swap the byte order of an array?\n",
        "# Answer:\n",
        "\n",
        "\"\"\"\n",
        "The function `np.ndarray.byteswap()` can be used to swap the byte order of an array in NumPy.\n",
        "\"\"\"\n"
      ],
      "metadata": {
        "id": "xgJ0OZ6-Dchf"
      },
      "execution_count": null,
      "outputs": []
    },
    {
      "cell_type": "code",
      "source": [
        "# 13. What is the significance of the np.linalg.inv function?\n",
        "# Answer:\n",
        "\n",
        "\"\"\"\n",
        "The `np.linalg.inv()` function computes the inverse of a given square matrix. It is significant in solving linear algebra problems, such as finding solutions to systems of linear equations.\n",
        "\"\"\"\n"
      ],
      "metadata": {
        "id": "hp1s23YcDcdy"
      },
      "execution_count": null,
      "outputs": []
    },
    {
      "cell_type": "code",
      "source": [
        "# 14. What does the np.reshape function do, and how is it used?\n",
        "# Answer:\n",
        "\n",
        "\"\"\"\n",
        "The `np.reshape()` function changes the shape of a given array without changing its data. It is used to alter the dimensions of an array, for example, converting a 1D array into a 2D array.\n",
        "Example:\n",
        "arr = np.array([1, 2, 3, 4, 5, 6])\n",
        "reshaped_arr = arr.reshape(2, 3)\n",
        "\"\"\"\n"
      ],
      "metadata": {
        "id": "alGtgHZWDcat"
      },
      "execution_count": null,
      "outputs": []
    },
    {
      "cell_type": "code",
      "source": [
        "# 15. What is broadcasting in Numpy?\n",
        "# Answer:\n",
        "\n",
        "\"\"\"\n",
        "Broadcasting in NumPy refers to the automatic expansion of smaller arrays so that they match the shape of larger arrays during operations like addition, multiplication, etc. It simplifies operations on arrays of different shapes.\n",
        "\"\"\"\n"
      ],
      "metadata": {
        "id": "4lCRcU5oDcX5"
      },
      "execution_count": null,
      "outputs": []
    },
    {
      "cell_type": "code",
      "source": [],
      "metadata": {
        "id": "PYcJBgTlDcVW"
      },
      "execution_count": null,
      "outputs": []
    },
    {
      "cell_type": "code",
      "source": [],
      "metadata": {
        "id": "ZzQuk8voDcJ8"
      },
      "execution_count": null,
      "outputs": []
    },
    {
      "cell_type": "code",
      "execution_count": null,
      "metadata": {
        "id": "628mhAilCQY3"
      },
      "outputs": [],
      "source": []
    }
  ]
}