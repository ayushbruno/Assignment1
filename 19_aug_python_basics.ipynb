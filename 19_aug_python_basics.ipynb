{
 "cells": [
  {
   "cell_type": "code",
   "execution_count": 1,
   "id": "2fa1f1e7-ba3c-4cd0-879e-1bb31c114870",
   "metadata": {
    "tags": []
   },
   "outputs": [
    {
     "name": "stdout",
     "output_type": "stream",
     "text": [
      "21\n",
      "11\n"
     ]
    }
   ],
   "source": [
    "# Q1.swaping values without using temp. variable.\n",
    "x=11\n",
    "y=21\n",
    "x,y=y,x\n",
    "print(x)\n",
    "print(y)"
   ]
  },
  {
   "cell_type": "code",
   "execution_count": 3,
   "id": "6732da06-7e81-4d55-ba69-722451beb70f",
   "metadata": {},
   "outputs": [
    {
     "name": "stdin",
     "output_type": "stream",
     "text": [
      "Length of rectangle is:\n",
      " 11\n",
      "width of rectangle is:\n",
      " 12\n"
     ]
    },
    {
     "name": "stdout",
     "output_type": "stream",
     "text": [
      "Area of recatangle is:\n",
      " 132\n"
     ]
    }
   ],
   "source": [
    "# Q2.Area of rectangle.\n",
    "L=int(input('Length of rectangle is:\\n'))\n",
    "W=int(input('width of rectangle is:\\n'))\n",
    "Area= L*W\n",
    "print('Area of recatangle is:\\n',(Area))\n",
    "      "
   ]
  },
  {
   "cell_type": "code",
   "execution_count": 4,
   "id": "ad788afb-4e72-479e-be83-b1e64bdc9cf9",
   "metadata": {},
   "outputs": [
    {
     "name": "stdin",
     "output_type": "stream",
     "text": [
      "Enter Temperature in celsius:\n",
      " 11\n"
     ]
    },
    {
     "name": "stdout",
     "output_type": "stream",
     "text": [
      "Temperature in fahrenhiet is:\n",
      " 51.8\n"
     ]
    }
   ],
   "source": [
    "# Q3.Convert temp. from celsius to fahrenhiet\n",
    "TempC=float(input('Enter Temperature in celsius:\\n'))\n",
    "# a= (1.8*TempC)+32.\n",
    "print('Temperature in fahrenhiet is:\\n', (1.8*TempC)+32)#we can also put a here in place of formula"
   ]
  },
  {
   "cell_type": "code",
   "execution_count": 5,
   "id": "a3a5e113-ae58-46f5-9267-d408bb1bf3f3",
   "metadata": {},
   "outputs": [
    {
     "name": "stdin",
     "output_type": "stream",
     "text": [
      "enter your name:\n",
      " Ayush\n"
     ]
    },
    {
     "name": "stdout",
     "output_type": "stream",
     "text": [
      "5\n"
     ]
    }
   ],
   "source": [
    "#String based question\n",
    "#Q1 Find length of string\n",
    "a=input('enter your name:\\n')\n",
    "print(len(a))"
   ]
  },
  {
   "cell_type": "code",
   "execution_count": 1,
   "id": "1157025e-339b-4c59-a63b-67b985c15efe",
   "metadata": {},
   "outputs": [
    {
     "name": "stdin",
     "output_type": "stream",
     "text": [
      "what is python:\n",
      " It is a programming language.\n"
     ]
    },
    {
     "name": "stdout",
     "output_type": "stream",
     "text": [
      "9\n"
     ]
    }
   ],
   "source": [
    "# Q2 count number of vowels\n",
    "a= input(\"what is python:\\n\")\n",
    "b= \"aeiou\"\n",
    " \n",
    "count = sum(a.count(vowel) for vowel in b) # to be honest i learnt this from google\n",
    "print(count)"
   ]
  },
  {
   "cell_type": "code",
   "execution_count": 2,
   "id": "78956449-42d7-421a-b23b-78b1cb55671d",
   "metadata": {},
   "outputs": [
    {
     "name": "stdout",
     "output_type": "stream",
     "text": [
      "hsuyA si eman yM\n"
     ]
    }
   ],
   "source": [
    "# Q3 Reverse and print the order of given string.\n",
    "a=\"My name is Ayush\"\n",
    "print(a[-1::-1]) #using slicing method(from last i.e -1 to the starting i.e (::) with a(-1) negative jump."
   ]
  },
  {
   "cell_type": "code",
   "execution_count": 3,
   "id": "3abaac3a-e534-439c-acf1-666ceabc3f7b",
   "metadata": {},
   "outputs": [
    {
     "name": "stdin",
     "output_type": "stream",
     "text": [
      "enter a string:\n",
      " LOL\n"
     ]
    },
    {
     "name": "stdout",
     "output_type": "stream",
     "text": [
      "Yes\n"
     ]
    }
   ],
   "source": [
    "# Q4 To check palindrome\n",
    "a=str(input(\"enter a string:\\n\"))\n",
    "b=a[-1::-1]                             # I had some rough idea about this but i hvnt learnt if-else, so I learnt-\n",
    "                                         # about if-else and performed this.\n",
    "if (a == b):\n",
    "    print(\"Yes\")\n",
    "else:\n",
    "    print(\"No\")"
   ]
  },
  {
   "cell_type": "code",
   "execution_count": 1,
   "id": "887fe162-e459-4bcc-93ed-f5a3fd8081e2",
   "metadata": {},
   "outputs": [
    {
     "name": "stdin",
     "output_type": "stream",
     "text": [
      "Enter any sentence:\n",
      " My name is Ayush\n"
     ]
    },
    {
     "name": "stdout",
     "output_type": "stream",
     "text": [
      "MynameisAyush\n"
     ]
    }
   ],
   "source": [
    "#Q5 Remove spaces form string and print it.\n",
    "a=str(input(\"Enter any sentence:\\n\"))\n",
    "print(a.replace(\" \",\"\"))#here replace fx replaced the space(\" \") with no space(\"\") \n",
    "      "
   ]
  }
 ],
 "metadata": {
  "kernelspec": {
   "display_name": "Python 3 (ipykernel)",
   "language": "python",
   "name": "python3"
  },
  "language_info": {
   "codemirror_mode": {
    "name": "ipython",
    "version": 3
   },
   "file_extension": ".py",
   "mimetype": "text/x-python",
   "name": "python",
   "nbconvert_exporter": "python",
   "pygments_lexer": "ipython3",
   "version": "3.10.8"
  }
 },
 "nbformat": 4,
 "nbformat_minor": 5
}
