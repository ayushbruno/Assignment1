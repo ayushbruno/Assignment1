{
 "cells": [
  {
   "cell_type": "code",
   "execution_count": 8,
   "id": "826ca765-7bbe-4935-881c-6f8a2c26e159",
   "metadata": {},
   "outputs": [
    {
     "name": "stdout",
     "output_type": "stream",
     "text": [
      "Data Science\n",
      "ayush\n"
     ]
    }
   ],
   "source": [
    "# Q1.\n",
    "# Q1.1 What is the difference between static and dynamic variables in Python\n",
    "Static Variables belongs to the class itself rather than any particular instance/method of the class.\n",
    "Static variables are fixed and cannot be changed.\n",
    "class computer():\n",
    "    subject=\"Data Science\"\n",
    "    def __init__(self,name):\n",
    "        self.name=name\n",
    "a=computer(\"ayush\")\n",
    "b=computer(\"bruno\")\n",
    "print(a.subject)\n",
    "print(a.name)    \n",
    "    \n",
    "#Here subject is a static variable"
   ]
  },
  {
   "cell_type": "code",
   "execution_count": 1,
   "id": "4dec30e2-78c3-4b03-bb0a-5e735debe3f0",
   "metadata": {},
   "outputs": [
    {
     "name": "stdout",
     "output_type": "stream",
     "text": [
      "ayush\n",
      "11\n"
     ]
    }
   ],
   "source": [
    "# Dynamic variable\n",
    "The value assigned to a variable can be of any data type, and the variable can be reassigned a new value at any time. \n",
    "These variables are known as dynamic variables because their values can change dynamically during the \n",
    "execution of a program.\n",
    "\n",
    "a=\"ayush\"\n",
    "print(a)\n",
    "a=11\n",
    "print(a)\n",
    "# Here \"a\" is dynamic variable"
   ]
  },
  {
   "cell_type": "code",
   "execution_count": null,
   "id": "bc647c8f-602b-4637-af3a-8390b53ace28",
   "metadata": {},
   "outputs": [],
   "source": [
    "# Explain the purpose of \"pop\",\"popitem\",\"clear()\" in a dictionary with suitable examples.\n",
    "\n",
    "The pop method removes a specified key from the dictionary and returns the corresponding value. \n",
    "The popitem method removes and returns the last key-value pair as a tuple.\n",
    "The clear method removes all items from the dictionary, resulting in an empty dictionary."
   ]
  },
  {
   "cell_type": "code",
   "execution_count": 4,
   "id": "4b522798-4bd7-477b-844b-d32c4c1426e2",
   "metadata": {},
   "outputs": [
    {
     "name": "stdout",
     "output_type": "stream",
     "text": [
      "frozenset({('a', 'ayush'), ('b', 'bruno')})\n"
     ]
    }
   ],
   "source": [
    "# What do you mean by FrozenSet? Explain it with suitable examples8\n",
    "A frozenset is an immutable version of a set.Frozenset objects are static and cannot be changed after they are created.\n",
    "\n",
    "d={\"a\":\"ayush\",\"b\":\"bruno\"}\n",
    "fs= frozenset(d.items())\n",
    "print(fs)"
   ]
  },
  {
   "cell_type": "code",
   "execution_count": 6,
   "id": "b626a5ef-8e5a-43c9-859f-943e57d45ddb",
   "metadata": {},
   "outputs": [
    {
     "name": "stdout",
     "output_type": "stream",
     "text": [
      "[0, 2, 3]\n",
      "(1, 2, 3)\n",
      "(4, 2, 3)\n"
     ]
    }
   ],
   "source": [
    "# Differentiate between mutable and immutable data types in Python and give examples of mutable and\n",
    "# immutable data types.\n",
    "Mutable data types are those whose valuescan be changed in place after they are created.\n",
    "We can modify,add or remove elements without creating a new object.\n",
    "List,sets,dictionery are mutable data types\n",
    "\n",
    "A=[1,2,3]\n",
    "A[0]=0\n",
    "print(A)\n",
    "\n",
    "Immutable data types are those whose values cannot be changed once they are created.\n",
    "Any modification results in a new object being created.\n",
    "String,tuples,frozensets,integers,etc. are immutable data types.\n",
    "\n",
    "tuple1 = (1, 2, 3)\n",
    "# my_tuple[0] = 4   This will give a TypeError\n",
    "tuple2 = (4, 2, 3)\n",
    "print(tuple1)  \n",
    "print(tuple2)  \n"
   ]
  },
  {
   "cell_type": "code",
   "execution_count": 3,
   "id": "d32fd042-aad3-4f2d-8433-2f841c1486ec",
   "metadata": {},
   "outputs": [
    {
     "name": "stdout",
     "output_type": "stream",
     "text": [
      "DataScience\n",
      "ayush\n"
     ]
    }
   ],
   "source": [
    "# What is __init__?Explain with an example\n",
    "\n",
    "The __init__ is a special method, also known as a constructor. \n",
    "It is automatically called when an instance (object) of a class is created. \n",
    "The purpose of the __init__ method is to initialize the newly created object with initial values for its attributes.\n",
    "The __init__ method is defined within a class and takes at least one argument, self, which refers to the instance \n",
    "being created. \n",
    "\n",
    "class computer():    \n",
    "    def __init__(self,name,subject):\n",
    "        self.name=name\n",
    "        self.subject=subject\n",
    "a=computer(\"ayush\",\"DataScience\")\n",
    "print(a.subject)\n",
    "print(a.name)"
   ]
  },
  {
   "cell_type": "code",
   "execution_count": null,
   "id": "ae09b468-4969-4b9e-b349-97aa4f0cdd17",
   "metadata": {},
   "outputs": [],
   "source": [
    "# What is docstring in Python?Explain with an example\n",
    "\n",
    "A string literal used to document modules, classes, functions, and methods.\n",
    "Provides inline documentation to help developers understand the code.\n",
    "Written using triple quotes (''' or \"\"\").\n",
    "Can be accessed using the __doc__ attribute or the help() function.\n"
   ]
  },
  {
   "cell_type": "code",
   "execution_count": null,
   "id": "3b989af5-ce3b-4af0-b9bf-71dc008104c7",
   "metadata": {},
   "outputs": [],
   "source": [
    "# What are unit tests in Python\n"
   ]
  },
  {
   "cell_type": "code",
   "execution_count": 3,
   "id": "ffaf9b70-a44e-42bc-b90a-230706023c94",
   "metadata": {},
   "outputs": [],
   "source": [
    "#  What is break, continue and pass in Python.\n",
    "The break statement is used to exit a loop prematurely. When break is encountered\n",
    "inside a loop (for or while), the loop terminates immediately, \n",
    "and the control of the program moves to the statement following the loop.\n",
    "\n",
    "\n",
    "The continue statement is used to skip the rest of the code inside the current iteration of a loop \n",
    "and move to the next iteration. \n",
    "When continue is encountered, the current iteration is halted, and the loop proceeds with the next iteration.\n",
    "\n",
    "\n",
    "The pass statement is a null operation, it is used as a placeholder. It is useful when a statement is \n",
    "syntactically required but no action is needed. pass can be used in loops, functions, classes, \n",
    "or conditional statements where you want to implement code in the future but currently dont have any operation to perform."
   ]
  },
  {
   "cell_type": "code",
   "execution_count": null,
   "id": "20394373-1495-421e-9ec0-d4d899ac15dd",
   "metadata": {},
   "outputs": [],
   "source": [
    "# What is the use of self in Python\n",
    "Self represents the instance of the class and is used to access variables and methods that belong to the class.\n",
    "First Parameter: It is always the first parameter of instance methods in the class.\n",
    "Access Attributes: Using self, you can access instance attributes and methods from within the class.\n",
    "Not a Keyword: While self is not a reserved keyword in Python, it is a strong convention that should be followed."
   ]
  },
  {
   "cell_type": "code",
   "execution_count": null,
   "id": "f4fdbeaf-909a-4160-ab3e-06e065b96cdd",
   "metadata": {},
   "outputs": [],
   "source": [
    "# What are modules and packages in Python\n",
    "\n",
    "A module is a single file (or files) that contains Python code, such as functions, classes, or variables. \n",
    "Modules help in breaking down large programs into smaller, manageable and reusable pieces of code. \n",
    "You can import and use these modules in other Python programs.\n",
    "\n",
    "\n",
    "A package is a way of organizing related modules into a directory hierarchy.\n",
    "Packages allow you to structure your Python project logically and avoid module name collisions.\n",
    "And can contain multiple modules and sub-packages."
   ]
  },
  {
   "cell_type": "code",
   "execution_count": null,
   "id": "95f205c2-50f4-42f7-ab71-3c2d4fdaeb5d",
   "metadata": {},
   "outputs": [],
   "source": [
    "# What are lists and tuples? What is the key difference between the two\n",
    "\n",
    "A list is a mutable sequence, which means we can change its contents after it has been created.\n",
    "Lists are defined by enclosing the elements in square brackets [].\n",
    "\n",
    "A tuple is an immutable sequence, which means we cant change its contents after it has been created. \n",
    "Tuples are defined by enclosing the elements in round brackets ().\n",
    "\n",
    "Difference b/w lists and tuples\n",
    "Lists: Used when you need a collection of items that may change, such as items in a shopping cart or\n",
    "a list of student names that might be updated.\n",
    "\n",
    "Tuples: Used when you need a collection of items that should not change, such as coordinates of a point,\n",
    "RGB color values, or fixed configuration settings."
   ]
  },
  {
   "cell_type": "code",
   "execution_count": null,
   "id": "8b7bf78f-ec84-4718-b12c-505f105a6b88",
   "metadata": {},
   "outputs": [],
   "source": [
    "# What is an Interpreted language & dynamically typed language?Write 5 differences between them."
   ]
  },
  {
   "cell_type": "code",
   "execution_count": null,
   "id": "11c4fbd3-7a28-425d-a61b-07ec1e44a5cb",
   "metadata": {},
   "outputs": [],
   "source": [
    "# What are Dict and List comprehensions\n",
    "\n",
    "Dict and List comprehensions are concise ways to create dictionaries and lists in Python. They provide a more readable and\n",
    "expressive way to generate new collections from existing iterables, often replacing the need for more verbose loops.\n",
    "\n",
    "List Comprehension- \n",
    "squares = [x**2 for x in range(10)]\n",
    "print(squares) \n",
    "\n",
    "Dict Comprehension-\n",
    "squares = {x:x**2 for x in range(10)}\n",
    "print(squares) \n"
   ]
  },
  {
   "cell_type": "code",
   "execution_count": null,
   "id": "21a11e74-84a4-4c62-b3d7-8b3aaa10edd5",
   "metadata": {},
   "outputs": [],
   "source": [
    "# What are decorators in Python? Explain it with an example.Write down its use cases.\n",
    "\n",
    "Decorators in Python are a powerful and flexible way to modify the behavior of functions or classes. \n",
    "They are higher-order functions that take another function as an argument and extend or alter its behavior. \n",
    "Decorators are often used for logging, access control, instrumentation, caching, and more.\n",
    "\n",
    "Example-\n",
    "  \n",
    "def decorator(your_func):\n",
    "    def wrapper_func():\n",
    "        \n",
    "        "
   ]
  },
  {
   "cell_type": "code",
   "execution_count": null,
   "id": "c2191f7b-de4f-43f0-be30-64e52764c41b",
   "metadata": {},
   "outputs": [],
   "source": [
    "# How is memory managed in Python\n",
    "\n",
    "Reference Counting: Automatically tracks the number of references to each object and deallocates memory\n",
    "when the count drops to zero.\n",
    "Garbage Collection: Detects and cleans up reference cycles that reference counting alone cannot handle.\n",
    "Memory Pools: Allocates small objects efficiently using memory pools and arenas.\n",
    "Manual Memory Management: Developers can use explicit deletion and weak references to influence memory usage.\n",
    "Memory Profiling and Optimization: Tools and techniques help track and optimize memory usage.\n"
   ]
  },
  {
   "cell_type": "code",
   "execution_count": 4,
   "id": "a0f7600c-dcce-440b-b4aa-3d25db5bdca8",
   "metadata": {},
   "outputs": [],
   "source": [
    "# What is lambda in Python? Why is it used\n",
    "Lambda functions in Python provide a concise way to create small, anonymous functions. \n",
    "They are especially useful in functional programming constructs such\n",
    "as map(), filter(), and reduce(), as well as for defining small callbacks and event handlers.\n"
   ]
  },
  {
   "cell_type": "code",
   "execution_count": null,
   "id": "cfb7acf0-3858-4245-b735-6b22650de6ed",
   "metadata": {},
   "outputs": [],
   "source": [
    "# Explain split()and join()functions in Python\n",
    "\n",
    "The split() method in Python is used to divide a string into a list of substrings based on a specified delimiter (separator). \n",
    "If no delimiter is specified, the method splits the string by whitespace by default.\n",
    "\n",
    "The join() method in Python is used to concatenate the elements of an iterable (e.g., list, tuple) into a single string, \n",
    "with each element separated by the specified delimiter."
   ]
  },
  {
   "cell_type": "code",
   "execution_count": null,
   "id": "50de3840-b722-4ce7-aa1c-f761d0ac2415",
   "metadata": {},
   "outputs": [],
   "source": [
    "# What are iterators , iterable & generators in Python\n",
    "\n",
    "An iterator is an object that enables a programmer to traverse a container, particularly lists\n",
    "\n",
    "An iterable is any Python object capable of returning its members one at a time, permitting it to be iterated over in a loop\n",
    "\n",
    "Generators are a simple way to create iterators using a function that yields values one at a time, pausing its state between each yield. \n",
    "They are a concise and memory-efficient way to handle iterables, particularly for large datasets."
   ]
  },
  {
   "cell_type": "code",
   "execution_count": 9,
   "id": "6b18db4f-2604-4e25-9c97-adadd4ccfa1f",
   "metadata": {},
   "outputs": [],
   "source": [
    "# What is the difference between xrange and range in Python\n",
    "In Python 3, xrange() has been removed, and range() behaves like xrange() from Python 2.\n",
    "The range() function in Python 3 returns a range object, which is an immutable sequence type that generates numbers on the fly."
   ]
  },
  {
   "cell_type": "code",
   "execution_count": null,
   "id": "59b925a3-4ecc-4f13-bb3a-f3ca3fb0a67d",
   "metadata": {},
   "outputs": [],
   "source": [
    "# Pillars of Oops?\n",
    "\n",
    "1.Encapsulation: Encapsulation is the practice of bundling the data (attributes) and methods (functions) that operate on the data into a single unit, or class. \n",
    "It also restricts direct access to some of an object's components, which can help to prevent unintended interference and misuse.\n",
    "\n",
    "2. Abstraction: Abstraction is the concept of hiding the complex implementation details and showing only the essential features of the object.\n",
    "This simplifies the interaction with objects by reducing the complexity and allowing the user to focus on the interaction rather than the inner workings.\n",
    "\n",
    "3. Inheritance: Inheritance is the mechanism by which one class (child or subclass) can inherit the attributes and methods of another class (parent or superclass).\n",
    "It promotes code reuse and establishes a natural hierarchy between classes.\n",
    "\n",
    "4. Polymorphism: Polymorphism allows objects of different classes to be treated as objects of a common super class. \n",
    "It is achieved through method overriding (same method name, different implementation in subclasses) and method overloading (same method name, different parameters)."
   ]
  },
  {
   "cell_type": "code",
   "execution_count": null,
   "id": "3f2e4939-f5b6-4dbf-9df5-5c7e6ff04156",
   "metadata": {},
   "outputs": [],
   "source": [
    "# How will you check if a class is a child of another class?\n",
    "\n",
    "In Python, you can check if a class is a child (or subclass) of another class using the issubclass() function \n",
    "or the isinstance() function."
   ]
  },
  {
   "cell_type": "code",
   "execution_count": null,
   "id": "7c86e98d-3479-47c4-8708-6a737fb1ffb6",
   "metadata": {},
   "outputs": [],
   "source": [
    "# How does inheritance work in python? Explain all types of inheritance with an example.\n",
    "\n",
    "Inheritance in Python allows one class to inherit the attributes and methods of another class. \n",
    "It promotes code reuse and enables the creation of a hierarchy of classes.\n",
    "\n",
    "1.Single Inheritance:\n",
    "A single class inherits from one parent class\n",
    "\n",
    "2.Multiple Inheritance:\n",
    "A single class inherits from more than one parent class\n",
    "\n",
    "3.Multilevel Inheritance:\n",
    "A class inherits from another class, which in turn inherits from another class\n",
    "\n",
    "4.Hierarchical Inheritance:\n",
    "Multiple classes inherit from a single parent class\n",
    "\n",
    "5.Hybrid Inheritance:\n",
    "A combination of two or more types of inheritance."
   ]
  },
  {
   "cell_type": "code",
   "execution_count": null,
   "id": "0614cb59-4757-46bc-aee2-e64b18dd9bd7",
   "metadata": {},
   "outputs": [],
   "source": [
    "# What is encapsulation? Explain it with an example\n",
    "Encapsulation is one of the fundamental principles of Object-Oriented Programming (OOP). \n",
    "It refers to the bundling of data (attributes) and methods (functions) that operate on the data into a single \n",
    "unit called a class. Encapsulation restricts direct access to some of an object's components,\n",
    "which is a means of preventing accidental interference and misuse of the data. \n",
    "This is often achieved through access modifiers, such as private and protected, which control how data \n",
    "can be accessed and modified.\n",
    "\n",
    "Key Points of Encapsulation:\n",
    "Data Hiding: Encapsulation allows the internal representation of an object to be hidden from the outside. \n",
    "Only the necessary information is exposed through public methods.\n",
    "Public, Private, and Protected Members:\n",
    "Public members: Accessible from anywhere.\n",
    "Private members: Accessible only within the class they are defined.\n",
    "Protected members: Accessible within the class and its subclasses."
   ]
  },
  {
   "cell_type": "code",
   "execution_count": null,
   "id": "7e8ae54f-938e-498c-b902-cc0f5fb615fe",
   "metadata": {},
   "outputs": [],
   "source": [
    "# What is polymorphism? Explain it with an example.\n",
    "\n",
    "Polymorphism is one of the core concepts of Object-Oriented Programming (OOP).\n",
    "It allows objects of different classes to be treated as objects of a common super class. \n",
    "The main idea is that the same interface can be used to represent different underlying forms (data types).\n",
    "\n",
    "Key Points of Polymorphism:\n",
    "Method Overriding: This occurs when a subclass provides a specific implementation of a method that is already \n",
    "defined in its superclass. The method in the subclass has the same name, parameters, and return type as \n",
    "the method in the superclass.\n",
    "Method Overloading: This allows a class to have more than one method with the same name, \n",
    "provided their parameter lists are different (different type, number, or both).\n"
   ]
  },
  {
   "cell_type": "code",
   "execution_count": null,
   "id": "409c8b6d-250f-4ecd-ac7c-815ef3d13ddc",
   "metadata": {},
   "outputs": [],
   "source": [
    "# Question 1. 2. Which of the following identifier names are invalid and why?\n",
    "# a) Serial_no.\n",
    "# b) 1st_Room\n",
    "# c) Hundred$\n",
    "# d) Total_Marks\n",
    "# e) total-Marks\n",
    "# f) Total Marks\n",
    "# g) True\n",
    "# h) _Percentag\n",
    "\n",
    "Valid Identifiers: Serial_no., Total_Marks, _Percentag"
   ]
  },
  {
   "cell_type": "code",
   "execution_count": 3,
   "id": "1737a20c-e1d5-4dce-8e3f-5915c7e36f81",
   "metadata": {},
   "outputs": [],
   "source": [
    "# Question 1.3.\n",
    "name = [\"Mohan\", \"dash\", \"karam\", \"chandra\",\"gandhi\",\"Bapu\"]\n",
    "# do the following operations in this list;\n",
    "# a) add an element \"freedom_fighter\" in this list at the 0th index.\n",
    "# b) find the output of the following ,and explain how?\n",
    "# c) add two more elements in the name [\"NetaJi\",\"Bose\"] at the end of the list.\n",
    "# d) what will be the value of temp:\n",
    "# name = [\"Bapuji\", \"dash\", \"karam\", \"chandra\",\"gandi\",\"Mohan\"]\n",
    "# temp=name[-1]\n",
    "# name[-1]=name[0]\n",
    "# name[0]=temp\n",
    "# print(name)\n"
   ]
  },
  {
   "cell_type": "code",
   "execution_count": 7,
   "id": "3b103e2f-2d7d-499b-9c80-08f92ef3111d",
   "metadata": {},
   "outputs": [],
   "source": [
    "name.insert(0,\"freedom_fighter\")"
   ]
  },
  {
   "cell_type": "code",
   "execution_count": 8,
   "id": "9b8d02f9-92bd-4395-a181-a8727ec33e0a",
   "metadata": {},
   "outputs": [
    {
     "data": {
      "text/plain": [
       "['freedom_fighter', 'Mohan', 'dash', 'karam', 'chandra', 'gandhi', 'Bapu']"
      ]
     },
     "execution_count": 8,
     "metadata": {},
     "output_type": "execute_result"
    }
   ],
   "source": [
    "name"
   ]
  },
  {
   "cell_type": "code",
   "execution_count": 6,
   "id": "904adf6b-2061-4c1d-8eb4-32ee98ddfc71",
   "metadata": {},
   "outputs": [
    {
     "name": "stdout",
     "output_type": "stream",
     "text": [
      "8\n"
     ]
    }
   ],
   "source": [
    "name = ['freedom_fighter', 'Mohan', 'dash', 'karam', 'chandra', 'gandhi', 'Bapu']\n",
    "length1=len((name[-len(name)+1:-1:2]))\n",
    "length2=len((name[-len(name)+1:-1]))\n",
    "print(length1+length2)"
   ]
  },
  {
   "cell_type": "code",
   "execution_count": 8,
   "id": "41980324-fa97-43f3-bf43-e48eacc16521",
   "metadata": {},
   "outputs": [],
   "source": [
    "name.append(\"NetaJi\")\n",
    "name.append(\"Bose\")"
   ]
  },
  {
   "cell_type": "code",
   "execution_count": 11,
   "id": "1420dfe2-6de2-4e13-8251-2cd814ea482a",
   "metadata": {},
   "outputs": [
    {
     "name": "stdout",
     "output_type": "stream",
     "text": [
      "['freedom_fighter', 'Mohan', 'dash', 'karam', 'chandra', 'gandhi', 'Bapu', 'NetaJi', 'Bose'] "
     ]
    }
   ],
   "source": [
    "print(name,end= \" \")"
   ]
  },
  {
   "cell_type": "code",
   "execution_count": 12,
   "id": "b0e3e6a1-4996-47ff-b862-c4145dd50518",
   "metadata": {},
   "outputs": [
    {
     "name": "stdout",
     "output_type": "stream",
     "text": [
      "['Mohan', 'dash', 'karam', 'chandra', 'gandi', 'Bapuji']\n"
     ]
    }
   ],
   "source": [
    "name = [\"Bapuji\", \"dash\", \"karam\", \"chandra\",\"gandi\",\"Mohan\"]\n",
    "temp=name[-1]\n",
    "name[-1]=name[0]\n",
    "name[0]=temp\n",
    "print(name)"
   ]
  },
  {
   "cell_type": "code",
   "execution_count": 13,
   "id": "f9b31f99-15fd-4088-a8a2-041b0314d592",
   "metadata": {},
   "outputs": [
    {
     "name": "stdout",
     "output_type": "stream",
     "text": [
      "2\n",
      "4\n",
      "7\n"
     ]
    }
   ],
   "source": [
    "# Question 1.4.Find the output of the following.\n",
    "animal = ['Human','cat','mat','cat','rat','Human', 'Lion']\n",
    "print(animal.count('Human'))\n",
    "print(animal.index('rat'))\n",
    "print(len(animal))"
   ]
  },
  {
   "cell_type": "code",
   "execution_count": 8,
   "id": "dd5b26dc-3fb9-4702-97a0-537634c140d7",
   "metadata": {},
   "outputs": [
    {
     "name": "stdout",
     "output_type": "stream",
     "text": [
      "8\n",
      "Navneet\n",
      "1\n",
      "ji\n",
      "22\n"
     ]
    }
   ],
   "source": [
    "# Question 1.5. \n",
    "tuple1=(10,20,\"Apple\",3.4,'a',[\"master\",\"ji\"],(\"sita\",\"geeta\",22),[{\"roll_no\":1},{\"name\":\"Navneet\"}])\n",
    "\n",
    "print(len(tuple1))\n",
    "print(tuple1[-1][-1][\"name\"])\n",
    "\n",
    "# fetch the value of roll_no from this tuple.\n",
    "print(tuple1[-1][0][\"roll_no\"])\n",
    "\n",
    "print(tuple1[-3][1])\n",
    "\n",
    "# fetch the element \"22\" from this tuple.\n",
    "print(tuple1[-2][2])"
   ]
  },
  {
   "cell_type": "code",
   "execution_count": 2,
   "id": "07164de5-18e6-4c98-a533-ef161ae4e8be",
   "metadata": {},
   "outputs": [
    {
     "name": "stdin",
     "output_type": "stream",
     "text": [
      "Enter the signal color (RED, Yellow, Green):  RED\n"
     ]
    },
    {
     "name": "stdout",
     "output_type": "stream",
     "text": [
      "Stop\n"
     ]
    }
   ],
   "source": [
    "# 1.6. Write a program to display the appropriate message as per the color of signal(RED-Stop/Yellow-Stay/\n",
    "# Green-Go) at the road crossing. \n",
    "\n",
    "def traffic_signal_message(signal_color):\n",
    "    signal_color = signal_color.lower()\n",
    "    if signal_color == \"red\":\n",
    "        return \"Stop\"\n",
    "    elif signal_color == \"yellow\":\n",
    "        return \"Stay\"\n",
    "    elif signal_color == \"green\":\n",
    "        return \"Go\"\n",
    "    else:\n",
    "        return \"Invalid signal color\"\n",
    "\n",
    "signal_color = input(\"Enter the signal color (RED, Yellow, Green): \")\n",
    "message = traffic_signal_message(signal_color)\n",
    "\n",
    "\n",
    "print(message)\n"
   ]
  },
  {
   "cell_type": "code",
   "execution_count": 1,
   "id": "e83d75c0-4df0-484c-946c-db9c603f85c3",
   "metadata": {},
   "outputs": [
    {
     "name": "stdout",
     "output_type": "stream",
     "text": [
      "Select operation:\n",
      "1. Add\n",
      "2. Subtract\n",
      "3. Multiply\n",
      "4. Divide\n"
     ]
    },
    {
     "name": "stdin",
     "output_type": "stream",
     "text": [
      "Enter choice (1/2/3/4):  1\n",
      "Enter first number:  2\n",
      "Enter second number:  3\n"
     ]
    },
    {
     "name": "stdout",
     "output_type": "stream",
     "text": [
      "2.0 + 3.0 = 5.0\n"
     ]
    }
   ],
   "source": [
    "# 1.7. Write a program to create a simple calculator performing only four basic operations(+,-,/,*) .\n",
    "\n",
    "def add(a, b):\n",
    "    return a + b\n",
    "\n",
    "def subtract(a, b):\n",
    "    return a - b\n",
    "\n",
    "def multiply(a, b):\n",
    "    return a * b\n",
    "\n",
    "def divide(a, b):\n",
    "    if b == 0:\n",
    "        return \"Error! Division by zero.\"\n",
    "    else:\n",
    "        return a / b\n",
    "\n",
    "def calculator():\n",
    "    print(\"Select operation:\")\n",
    "    print(\"1. Add\")\n",
    "    print(\"2. Subtract\")\n",
    "    print(\"3. Multiply\")\n",
    "    print(\"4. Divide\")\n",
    "    \n",
    "    choice = input(\"Enter choice (1/2/3/4): \")\n",
    "\n",
    "    if choice in ['1', '2', '3', '4']:\n",
    "        num1 = float(input(\"Enter first number: \"))\n",
    "        num2 = float(input(\"Enter second number: \"))\n",
    "\n",
    "        if choice == '1':\n",
    "            print(f\"{num1} + {num2} = {add(num1, num2)}\")\n",
    "        elif choice == '2':\n",
    "            print(f\"{num1} - {num2} = {subtract(num1, num2)}\")\n",
    "        elif choice == '3':\n",
    "            print(f\"{num1} * {num2} = {multiply(num1, num2)}\")\n",
    "        elif choice == '4':\n",
    "            print(f\"{num1} / {num2} = {divide(num1, num2)}\")\n",
    "    else:\n",
    "        print(\"Invalid input\")\n",
    "\n",
    "\n",
    "calculator()\n"
   ]
  },
  {
   "cell_type": "code",
   "execution_count": 3,
   "id": "be1c5c97-14b6-4e25-8966-426636c46b98",
   "metadata": {},
   "outputs": [
    {
     "name": "stdout",
     "output_type": "stream",
     "text": [
      "The largest number among 2, 3, and 5 is 5.\n"
     ]
    }
   ],
   "source": [
    "# 1.8. Write a program to find the larger of the three pre-specified numbers using ternary operators.\n",
    "\n",
    "# num1 = int(input(\"enter first no.\"))\n",
    "# num2 = int(input(\"enter second no.\"))\n",
    "# num3 = int(input(\"enter third no.\"))\n",
    "num1 = 2\n",
    "num2 = 3\n",
    "num3 = 5\n",
    "\n",
    "# Find the largest number using ternary operators\n",
    "largest = num1 if (num1 > num2 and num1 > num3) else (num2 if num2 > num3 else num3)\n",
    "\n",
    "# Print the result\n",
    "print(f\"The largest number among {num1}, {num2}, and {num3} is {largest}.\")\n"
   ]
  },
  {
   "cell_type": "code",
   "execution_count": 1,
   "id": "558f7090-c4e6-4b24-bbd5-c6791b73966b",
   "metadata": {},
   "outputs": [
    {
     "name": "stdin",
     "output_type": "stream",
     "text": [
      "Enter a whole number:  24\n"
     ]
    },
    {
     "name": "stdout",
     "output_type": "stream",
     "text": [
      "The factors of 24 are: [1, 2, 3, 4, 6, 8, 12, 24]\n"
     ]
    }
   ],
   "source": [
    "# 1.9. Write a program to find the factors of a whole number using a while loop.\n",
    "\n",
    "def find_factors(number):\n",
    "    factors = []\n",
    "    i = 1\n",
    "    while i <= number:\n",
    "        if number % i == 0:\n",
    "            factors.append(i)\n",
    "        i += 1\n",
    "    return factors\n",
    "\n",
    "number = int(input(\"Enter a whole number: \"))\n",
    "\n",
    "factors = find_factors(number)\n",
    "\n",
    "print(f\"The factors of {number} are: {factors}\")\n"
   ]
  },
  {
   "cell_type": "code",
   "execution_count": 3,
   "id": "bd1b32c3-8333-403c-992d-8152f858a33e",
   "metadata": {
    "jp-MarkdownHeadingCollapsed": true,
    "tags": []
   },
   "outputs": [
    {
     "name": "stdin",
     "output_type": "stream",
     "text": [
      "Enter a number (negative number to stop):  2\n",
      "Enter a number (negative number to stop):  3\n",
      "Enter a number (negative number to stop):  -2\n"
     ]
    },
    {
     "name": "stdout",
     "output_type": "stream",
     "text": [
      "The sum of all positive numbers entered is: 5.0\n"
     ]
    }
   ],
   "source": [
    "# 1.10. Write a program to find the sum of all the positive numbers entered by the user. As soon as the user\n",
    "# enters a negative number, stop taking in any further input from the user and display the sum .\n",
    "\n",
    "# Function to find the sum of all positive numbers entered by the user\n",
    "def sum_of_positive_numbers():\n",
    "    total_sum = 0\n",
    "    while True:\n",
    "        num = float(input(\"Enter a no. (To stop Enter -ve no.): \"))\n",
    "        if num < 0:\n",
    "            break\n",
    "        total_sum += num\n",
    "    return total_sum\n",
    "\n",
    "# Call the function and print the result\n",
    "total_sum = sum_of_positive_numbers()\n",
    "print(f\"The sum of all positive numbers entered is: {total_sum}\")\n",
    "\n"
   ]
  },
  {
   "cell_type": "code",
   "execution_count": null,
   "id": "ee20d0a7-961e-44ab-8006-0a4045a3d8f2",
   "metadata": {},
   "outputs": [],
   "source": [
    "# 1.11. Write a program to find prime numbers between 2 to 100 using nested for loops."
   ]
  },
  {
   "cell_type": "code",
   "execution_count": null,
   "id": "c15399eb-cc1c-4672-809a-3fbd0adee39b",
   "metadata": {},
   "outputs": [],
   "source": []
  }
 ],
 "metadata": {
  "kernelspec": {
   "display_name": "Python 3 (ipykernel)",
   "language": "python",
   "name": "python3"
  },
  "language_info": {
   "codemirror_mode": {
    "name": "ipython",
    "version": 3
   },
   "file_extension": ".py",
   "mimetype": "text/x-python",
   "name": "python",
   "nbconvert_exporter": "python",
   "pygments_lexer": "ipython3",
   "version": "3.10.8"
  }
 },
 "nbformat": 4,
 "nbformat_minor": 5
}
